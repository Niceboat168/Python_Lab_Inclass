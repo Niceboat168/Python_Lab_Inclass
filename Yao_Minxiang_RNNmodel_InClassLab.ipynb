{
 "cells": [
  {
   "cell_type": "code",
   "execution_count": 1,
   "metadata": {},
   "outputs": [],
   "source": [
    "import numpy as np\n",
    "import matplotlib.pyplot as plt\n",
    "import pandas as pd"
   ]
  },
  {
   "cell_type": "code",
   "execution_count": 2,
   "metadata": {},
   "outputs": [],
   "source": [
    "df= pd.read_csv('IBM.csv')"
   ]
  },
  {
   "cell_type": "code",
   "execution_count": 3,
   "metadata": {},
   "outputs": [
    {
     "name": "stdout",
     "output_type": "stream",
     "text": [
      "<class 'pandas.core.frame.DataFrame'>\n",
      "RangeIndex: 1509 entries, 0 to 1508\n",
      "Data columns (total 7 columns):\n",
      "Date         1509 non-null object\n",
      "Open         1509 non-null float64\n",
      "High         1509 non-null float64\n",
      "Low          1509 non-null float64\n",
      "Close        1509 non-null float64\n",
      "Adj Close    1509 non-null float64\n",
      "Volume       1509 non-null int64\n",
      "dtypes: float64(5), int64(1), object(1)\n",
      "memory usage: 82.6+ KB\n"
     ]
    }
   ],
   "source": [
    "df.info()"
   ]
  },
  {
   "cell_type": "code",
   "execution_count": 4,
   "metadata": {},
   "outputs": [
    {
     "data": {
      "text/html": [
       "<div>\n",
       "<style scoped>\n",
       "    .dataframe tbody tr th:only-of-type {\n",
       "        vertical-align: middle;\n",
       "    }\n",
       "\n",
       "    .dataframe tbody tr th {\n",
       "        vertical-align: top;\n",
       "    }\n",
       "\n",
       "    .dataframe thead th {\n",
       "        text-align: right;\n",
       "    }\n",
       "</style>\n",
       "<table border=\"1\" class=\"dataframe\">\n",
       "  <thead>\n",
       "    <tr style=\"text-align: right;\">\n",
       "      <th></th>\n",
       "      <th>Date</th>\n",
       "      <th>Open</th>\n",
       "      <th>High</th>\n",
       "      <th>Low</th>\n",
       "      <th>Close</th>\n",
       "      <th>Adj Close</th>\n",
       "      <th>Volume</th>\n",
       "    </tr>\n",
       "  </thead>\n",
       "  <tbody>\n",
       "    <tr>\n",
       "      <th>0</th>\n",
       "      <td>2012-04-30</td>\n",
       "      <td>206.710007</td>\n",
       "      <td>207.960007</td>\n",
       "      <td>206.320007</td>\n",
       "      <td>207.080002</td>\n",
       "      <td>171.139999</td>\n",
       "      <td>2773200</td>\n",
       "    </tr>\n",
       "    <tr>\n",
       "      <th>1</th>\n",
       "      <td>2012-05-01</td>\n",
       "      <td>207.179993</td>\n",
       "      <td>208.929993</td>\n",
       "      <td>206.710007</td>\n",
       "      <td>208.000000</td>\n",
       "      <td>171.900360</td>\n",
       "      <td>2715900</td>\n",
       "    </tr>\n",
       "    <tr>\n",
       "      <th>2</th>\n",
       "      <td>2012-05-02</td>\n",
       "      <td>206.970001</td>\n",
       "      <td>208.270004</td>\n",
       "      <td>206.910004</td>\n",
       "      <td>208.059998</td>\n",
       "      <td>171.949890</td>\n",
       "      <td>2360300</td>\n",
       "    </tr>\n",
       "    <tr>\n",
       "      <th>3</th>\n",
       "      <td>2012-05-03</td>\n",
       "      <td>208.270004</td>\n",
       "      <td>208.919998</td>\n",
       "      <td>206.550003</td>\n",
       "      <td>207.240005</td>\n",
       "      <td>171.272232</td>\n",
       "      <td>2826600</td>\n",
       "    </tr>\n",
       "    <tr>\n",
       "      <th>4</th>\n",
       "      <td>2012-05-04</td>\n",
       "      <td>206.470001</td>\n",
       "      <td>207.110001</td>\n",
       "      <td>204.399994</td>\n",
       "      <td>204.990005</td>\n",
       "      <td>169.412750</td>\n",
       "      <td>4023600</td>\n",
       "    </tr>\n",
       "  </tbody>\n",
       "</table>\n",
       "</div>"
      ],
      "text/plain": [
       "         Date        Open        High         Low       Close   Adj Close  \\\n",
       "0  2012-04-30  206.710007  207.960007  206.320007  207.080002  171.139999   \n",
       "1  2012-05-01  207.179993  208.929993  206.710007  208.000000  171.900360   \n",
       "2  2012-05-02  206.970001  208.270004  206.910004  208.059998  171.949890   \n",
       "3  2012-05-03  208.270004  208.919998  206.550003  207.240005  171.272232   \n",
       "4  2012-05-04  206.470001  207.110001  204.399994  204.990005  169.412750   \n",
       "\n",
       "    Volume  \n",
       "0  2773200  \n",
       "1  2715900  \n",
       "2  2360300  \n",
       "3  2826600  \n",
       "4  4023600  "
      ]
     },
     "execution_count": 4,
     "metadata": {},
     "output_type": "execute_result"
    }
   ],
   "source": [
    "df.head()"
   ]
  },
  {
   "cell_type": "code",
   "execution_count": 5,
   "metadata": {},
   "outputs": [],
   "source": [
    "dfibm=df.groupby([\"Date\"],as_index=False).agg({'Open':'mean','Adj Close':'mean','Volume':sum})"
   ]
  },
  {
   "cell_type": "code",
   "execution_count": 6,
   "metadata": {},
   "outputs": [
    {
     "data": {
      "image/png": "[encoded data removed]",
      "text/plain": [
       "<matplotlib.figure.Figure at 0x227b69fe358>"
      ]
     },
     "metadata": {},
     "output_type": "display_data"
    }
   ],
   "source": [
    "x=dfibm['Date']\n",
    "y=dfibm['Adj Close']\n",
    "plt.plot(x, y,color=\"blue\",alpha=0.5)\n",
    "plt.xlabel('Date')\n",
    "plt.ylabel('Close Price')\n",
    "plt.title('Average Stock Close Price by Date')\n",
    "plt.show()"
   ]
  },
  {
   "cell_type": "code",
   "execution_count": 7,
   "metadata": {},
   "outputs": [
    {
     "data": {
      "text/html": [
       "<div>\n",
       "<style scoped>\n",
       "    .dataframe tbody tr th:only-of-type {\n",
       "        vertical-align: middle;\n",
       "    }\n",
       "\n",
       "    .dataframe tbody tr th {\n",
       "        vertical-align: top;\n",
       "    }\n",
       "\n",
       "    .dataframe thead th {\n",
       "        text-align: right;\n",
       "    }\n",
       "</style>\n",
       "<table border=\"1\" class=\"dataframe\">\n",
       "  <thead>\n",
       "    <tr style=\"text-align: right;\">\n",
       "      <th></th>\n",
       "      <th>Date</th>\n",
       "      <th>Open</th>\n",
       "      <th>High</th>\n",
       "      <th>Low</th>\n",
       "      <th>Close</th>\n",
       "      <th>Adj Close</th>\n",
       "      <th>Volume</th>\n",
       "    </tr>\n",
       "  </thead>\n",
       "  <tbody>\n",
       "    <tr>\n",
       "      <th>1196</th>\n",
       "      <td>2017-01-31</td>\n",
       "      <td>175.050003</td>\n",
       "      <td>175.580002</td>\n",
       "      <td>173.610001</td>\n",
       "      <td>174.520004</td>\n",
       "      <td>166.365753</td>\n",
       "      <td>4139000</td>\n",
       "    </tr>\n",
       "  </tbody>\n",
       "</table>\n",
       "</div>"
      ],
      "text/plain": [
       "            Date        Open        High         Low       Close   Adj Close  \\\n",
       "1196  2017-01-31  175.050003  175.580002  173.610001  174.520004  166.365753   \n",
       "\n",
       "       Volume  \n",
       "1196  4139000  "
      ]
     },
     "execution_count": 7,
     "metadata": {},
     "output_type": "execute_result"
    }
   ],
   "source": [
    "df[df['Date']=='2017-01-31']"
   ]
  },
  {
   "cell_type": "code",
   "execution_count": 8,
   "metadata": {},
   "outputs": [
    {
     "data": {
      "text/html": [
       "<div>\n",
       "<style scoped>\n",
       "    .dataframe tbody tr th:only-of-type {\n",
       "        vertical-align: middle;\n",
       "    }\n",
       "\n",
       "    .dataframe tbody tr th {\n",
       "        vertical-align: top;\n",
       "    }\n",
       "\n",
       "    .dataframe thead th {\n",
       "        text-align: right;\n",
       "    }\n",
       "</style>\n",
       "<table border=\"1\" class=\"dataframe\">\n",
       "  <thead>\n",
       "    <tr style=\"text-align: right;\">\n",
       "      <th></th>\n",
       "      <th>Date</th>\n",
       "      <th>Open</th>\n",
       "      <th>High</th>\n",
       "      <th>Low</th>\n",
       "      <th>Close</th>\n",
       "      <th>Adj Close</th>\n",
       "      <th>Volume</th>\n",
       "    </tr>\n",
       "  </thead>\n",
       "  <tbody>\n",
       "    <tr>\n",
       "      <th>1197</th>\n",
       "      <td>2017-02-01</td>\n",
       "      <td>175.0</td>\n",
       "      <td>175.699997</td>\n",
       "      <td>172.889999</td>\n",
       "      <td>174.289993</td>\n",
       "      <td>166.146484</td>\n",
       "      <td>2795700</td>\n",
       "    </tr>\n",
       "  </tbody>\n",
       "</table>\n",
       "</div>"
      ],
      "text/plain": [
       "            Date   Open        High         Low       Close   Adj Close  \\\n",
       "1197  2017-02-01  175.0  175.699997  172.889999  174.289993  166.146484   \n",
       "\n",
       "       Volume  \n",
       "1197  2795700  "
      ]
     },
     "execution_count": 8,
     "metadata": {},
     "output_type": "execute_result"
    }
   ],
   "source": [
    "df[df['Date']=='2017-02-01']"
   ]
  },
  {
   "cell_type": "code",
   "execution_count": 9,
   "metadata": {},
   "outputs": [],
   "source": [
    "df_train = df[:1197]\n",
    "df_test = df[1197:]"
   ]
  },
  {
   "cell_type": "code",
   "execution_count": 10,
   "metadata": {},
   "outputs": [],
   "source": [
    "training_set = df_train.iloc[:,1:2].values"
   ]
  },
  {
   "cell_type": "code",
   "execution_count": 11,
   "metadata": {},
   "outputs": [],
   "source": [
    "from sklearn.preprocessing import MinMaxScaler\n",
    "sc = MinMaxScaler(feature_range= (0,1))\n",
    "training_set_scaled = sc.fit_transform(training_set)"
   ]
  },
  {
   "cell_type": "code",
   "execution_count": 12,
   "metadata": {},
   "outputs": [],
   "source": [
    "X_train=[]\n",
    "y_train=[]\n",
    "for i in range(60,1197):\n",
    "    X_train.append(training_set_scaled[i-60:i,0])\n",
    "    y_train.append(training_set_scaled[i,0])\n",
    "X_train,y_train = np.array(X_train),np.array(y_train)"
   ]
  },
  {
   "cell_type": "code",
   "execution_count": 13,
   "metadata": {},
   "outputs": [],
   "source": [
    "X_train = np.reshape(X_train,(X_train.shape[0],X_train.shape[1],1))"
   ]
  },
  {
   "cell_type": "code",
   "execution_count": 14,
   "metadata": {},
   "outputs": [
    {
     "name": "stderr",
     "output_type": "stream",
     "text": [
      "Using TensorFlow backend.\n"
     ]
    }
   ],
   "source": [
    "from keras.models import Sequential\n",
    "from keras.layers import Dense\n",
    "from keras.layers import LSTM\n",
    "from keras.layers import Dropout"
   ]
  },
  {
   "cell_type": "code",
   "execution_count": 15,
   "metadata": {},
   "outputs": [],
   "source": [
    "regressor = Sequential()"
   ]
  },
  {
   "cell_type": "code",
   "execution_count": 16,
   "metadata": {},
   "outputs": [],
   "source": [
    "regressor.add(LSTM(units = 50,return_sequences = True,input_shape = (X_train.shape[1],1)))\n",
    "regressor.add(Dropout(0.2))"
   ]
  },
  {
   "cell_type": "code",
   "execution_count": 17,
   "metadata": {},
   "outputs": [],
   "source": [
    "regressor.add(LSTM(units = 50,return_sequences = True))\n",
    "regressor.add(Dropout(0.2))"
   ]
  },
  {
   "cell_type": "code",
   "execution_count": 18,
   "metadata": {},
   "outputs": [],
   "source": [
    "regressor.add(LSTM(units = 50,return_sequences = True))\n",
    "regressor.add(Dropout(0.2))"
   ]
  },
  {
   "cell_type": "code",
   "execution_count": 19,
   "metadata": {},
   "outputs": [],
   "source": [
    "regressor.add(LSTM(units = 50))\n",
    "regressor.add(Dropout(0.2))"
   ]
  },
  {
   "cell_type": "code",
   "execution_count": 20,
   "metadata": {},
   "outputs": [],
   "source": [
    "regressor.add(Dense(units = 1))"
   ]
  },
  {
   "cell_type": "code",
   "execution_count": 21,
   "metadata": {},
   "outputs": [],
   "source": [
    "regressor.compile(optimizer = 'adam',loss ='mean_squared_error')"
   ]
  },
  {
   "cell_type": "code",
   "execution_count": 22,
   "metadata": {},
   "outputs": [
    {
     "name": "stdout",
     "output_type": "stream",
     "text": [
      "Epoch 1/100\n",
      "1137/1137 [==============================] - 7s 6ms/step - loss: 0.0582\n",
      "Epoch 2/100\n",
      "1137/1137 [==============================] - 4s 4ms/step - loss: 0.0100\n",
      "Epoch 3/100\n",
      "1137/1137 [==============================] - 4s 4ms/step - loss: 0.0076\n",
      "Epoch 4/100\n",
      "1137/1137 [==============================] - 4s 4ms/step - loss: 0.0073\n",
      "Epoch 5/100\n",
      "1137/1137 [==============================] - 4s 4ms/step - loss: 0.0069\n",
      "Epoch 6/100\n",
      "1137/1137 [==============================] - 4s 4ms/step - loss: 0.0066\n",
      "Epoch 7/100\n",
      "1137/1137 [==============================] - 4s 4ms/step - loss: 0.0065\n",
      "Epoch 8/100\n",
      "1137/1137 [==============================] - 4s 4ms/step - loss: 0.0075\n",
      "Epoch 9/100\n",
      "1137/1137 [==============================] - 4s 4ms/step - loss: 0.0064\n",
      "Epoch 10/100\n",
      "1137/1137 [==============================] - 4s 4ms/step - loss: 0.0068\n",
      "Epoch 11/100\n",
      "1137/1137 [==============================] - 4s 4ms/step - loss: 0.0055\n",
      "Epoch 12/100\n",
      "1137/1137 [==============================] - 4s 4ms/step - loss: 0.0055\n",
      "Epoch 13/100\n",
      "1137/1137 [==============================] - 4s 4ms/step - loss: 0.0058\n",
      "Epoch 14/100\n",
      "1137/1137 [==============================] - 4s 4ms/step - loss: 0.0054\n",
      "Epoch 15/100\n",
      "1137/1137 [==============================] - 4s 4ms/step - loss: 0.0052\n",
      "Epoch 16/100\n",
      "1137/1137 [==============================] - 4s 4ms/step - loss: 0.0051\n",
      "Epoch 17/100\n",
      "1137/1137 [==============================] - 4s 4ms/step - loss: 0.0046\n",
      "Epoch 18/100\n",
      "1137/1137 [==============================] - 4s 4ms/step - loss: 0.0049\n",
      "Epoch 19/100\n",
      "1137/1137 [==============================] - 4s 4ms/step - loss: 0.0048\n",
      "Epoch 20/100\n",
      "1137/1137 [==============================] - 4s 4ms/step - loss: 0.0043\n",
      "Epoch 21/100\n",
      "1137/1137 [==============================] - 4s 4ms/step - loss: 0.0041\n",
      "Epoch 22/100\n",
      "1137/1137 [==============================] - 4s 4ms/step - loss: 0.0044\n",
      "Epoch 23/100\n",
      "1137/1137 [==============================] - 4s 4ms/step - loss: 0.0041\n",
      "Epoch 24/100\n",
      "1137/1137 [==============================] - 4s 4ms/step - loss: 0.0048\n",
      "Epoch 25/100\n",
      "1137/1137 [==============================] - 4s 4ms/step - loss: 0.0038\n",
      "Epoch 26/100\n",
      "1137/1137 [==============================] - 4s 4ms/step - loss: 0.0044\n",
      "Epoch 27/100\n",
      "1137/1137 [==============================] - 4s 4ms/step - loss: 0.0045\n",
      "Epoch 28/100\n",
      "1137/1137 [==============================] - 4s 4ms/step - loss: 0.0037\n",
      "Epoch 29/100\n",
      "1137/1137 [==============================] - 4s 4ms/step - loss: 0.0036\n",
      "Epoch 30/100\n",
      "1137/1137 [==============================] - 4s 4ms/step - loss: 0.0040\n",
      "Epoch 31/100\n",
      "1137/1137 [==============================] - 4s 4ms/step - loss: 0.0034\n",
      "Epoch 32/100\n",
      "1137/1137 [==============================] - 4s 4ms/step - loss: 0.0036\n",
      "Epoch 33/100\n",
      "1137/1137 [==============================] - 4s 4ms/step - loss: 0.0039\n",
      "Epoch 34/100\n",
      "1137/1137 [==============================] - 4s 4ms/step - loss: 0.0045\n",
      "Epoch 35/100\n",
      "1137/1137 [==============================] - 5s 4ms/step - loss: 0.0044\n",
      "Epoch 36/100\n",
      "1137/1137 [==============================] - 4s 4ms/step - loss: 0.0034\n",
      "Epoch 37/100\n",
      "1137/1137 [==============================] - 4s 4ms/step - loss: 0.0033\n",
      "Epoch 38/100\n",
      "1137/1137 [==============================] - 4s 4ms/step - loss: 0.0034\n",
      "Epoch 39/100\n",
      "1137/1137 [==============================] - 4s 4ms/step - loss: 0.0036\n",
      "Epoch 40/100\n",
      "1137/1137 [==============================] - 4s 4ms/step - loss: 0.0038\n",
      "Epoch 41/100\n",
      "1137/1137 [==============================] - 4s 4ms/step - loss: 0.0030\n",
      "Epoch 42/100\n",
      "1137/1137 [==============================] - 4s 4ms/step - loss: 0.0030\n",
      "Epoch 43/100\n",
      "1137/1137 [==============================] - 4s 4ms/step - loss: 0.0031\n",
      "Epoch 44/100\n",
      "1137/1137 [==============================] - 4s 4ms/step - loss: 0.0027\n",
      "Epoch 45/100\n",
      "1137/1137 [==============================] - 4s 4ms/step - loss: 0.0029\n",
      "Epoch 46/100\n",
      "1137/1137 [==============================] - 4s 4ms/step - loss: 0.0027\n",
      "Epoch 47/100\n",
      "1137/1137 [==============================] - 4s 4ms/step - loss: 0.0028\n",
      "Epoch 48/100\n",
      "1137/1137 [==============================] - 4s 4ms/step - loss: 0.0026\n",
      "Epoch 49/100\n",
      "1137/1137 [==============================] - 4s 4ms/step - loss: 0.0027\n",
      "Epoch 50/100\n",
      "1137/1137 [==============================] - 4s 4ms/step - loss: 0.0027\n",
      "Epoch 51/100\n",
      "1137/1137 [==============================] - 4s 4ms/step - loss: 0.0027\n",
      "Epoch 52/100\n",
      "1137/1137 [==============================] - 4s 4ms/step - loss: 0.0028\n",
      "Epoch 53/100\n",
      "1137/1137 [==============================] - 4s 4ms/step - loss: 0.0025\n",
      "Epoch 54/100\n",
      "1137/1137 [==============================] - 4s 3ms/step - loss: 0.0026\n",
      "Epoch 55/100\n",
      "1137/1137 [==============================] - 4s 3ms/step - loss: 0.0024\n",
      "Epoch 56/100\n",
      "1137/1137 [==============================] - 4s 4ms/step - loss: 0.0025\n",
      "Epoch 57/100\n",
      "1137/1137 [==============================] - 4s 3ms/step - loss: 0.0025\n",
      "Epoch 58/100\n",
      "1137/1137 [==============================] - 4s 3ms/step - loss: 0.0024\n",
      "Epoch 59/100\n",
      "1137/1137 [==============================] - 4s 3ms/step - loss: 0.0025\n",
      "Epoch 60/100\n",
      "1137/1137 [==============================] - 4s 4ms/step - loss: 0.0023\n",
      "Epoch 61/100\n",
      "1137/1137 [==============================] - 4s 3ms/step - loss: 0.0023\n",
      "Epoch 62/100\n",
      "1137/1137 [==============================] - 4s 3ms/step - loss: 0.0023\n",
      "Epoch 63/100\n",
      "1137/1137 [==============================] - 4s 4ms/step - loss: 0.0021\n",
      "Epoch 64/100\n",
      "1137/1137 [==============================] - 4s 4ms/step - loss: 0.0025\n",
      "Epoch 65/100\n",
      "1137/1137 [==============================] - 4s 4ms/step - loss: 0.0023\n",
      "Epoch 66/100\n",
      "1137/1137 [==============================] - 4s 3ms/step - loss: 0.0024\n",
      "Epoch 67/100\n",
      "1137/1137 [==============================] - 4s 3ms/step - loss: 0.0025\n",
      "Epoch 68/100\n",
      "1137/1137 [==============================] - 4s 4ms/step - loss: 0.0022\n",
      "Epoch 69/100\n",
      "1137/1137 [==============================] - 4s 3ms/step - loss: 0.0023\n",
      "Epoch 70/100\n",
      "1137/1137 [==============================] - 4s 4ms/step - loss: 0.0020\n",
      "Epoch 71/100\n",
      "1137/1137 [==============================] - 4s 3ms/step - loss: 0.0023\n",
      "Epoch 72/100\n",
      "1137/1137 [==============================] - 4s 4ms/step - loss: 0.0021\n",
      "Epoch 73/100\n",
      "1137/1137 [==============================] - 4s 3ms/step - loss: 0.0020\n",
      "Epoch 74/100\n",
      "1137/1137 [==============================] - 4s 3ms/step - loss: 0.0020\n",
      "Epoch 75/100\n",
      "1137/1137 [==============================] - 4s 3ms/step - loss: 0.0019\n",
      "Epoch 76/100\n",
      "1137/1137 [==============================] - 4s 4ms/step - loss: 0.0020\n",
      "Epoch 77/100\n",
      "1137/1137 [==============================] - 4s 3ms/step - loss: 0.0020\n",
      "Epoch 78/100\n",
      "1137/1137 [==============================] - 4s 3ms/step - loss: 0.0020\n",
      "Epoch 79/100\n",
      "1137/1137 [==============================] - 4s 3ms/step - loss: 0.0019\n",
      "Epoch 80/100\n",
      "1137/1137 [==============================] - 4s 4ms/step - loss: 0.0018\n",
      "Epoch 81/100\n",
      "1137/1137 [==============================] - 4s 4ms/step - loss: 0.0018\n",
      "Epoch 82/100\n",
      "1137/1137 [==============================] - 4s 3ms/step - loss: 0.0018\n",
      "Epoch 83/100\n",
      "1137/1137 [==============================] - 4s 3ms/step - loss: 0.0019\n",
      "Epoch 84/100\n",
      "1137/1137 [==============================] - 4s 4ms/step - loss: 0.0017\n",
      "Epoch 85/100\n",
      "1137/1137 [==============================] - 4s 4ms/step - loss: 0.0018\n",
      "Epoch 86/100\n",
      "1137/1137 [==============================] - 4s 3ms/step - loss: 0.0019\n",
      "Epoch 87/100\n",
      "1137/1137 [==============================] - 4s 3ms/step - loss: 0.0017\n",
      "Epoch 88/100\n",
      "1137/1137 [==============================] - 4s 4ms/step - loss: 0.0017\n",
      "Epoch 89/100\n",
      "1137/1137 [==============================] - 4s 3ms/step - loss: 0.0016\n",
      "Epoch 90/100\n",
      "1137/1137 [==============================] - 4s 4ms/step - loss: 0.0017\n",
      "Epoch 91/100\n",
      "1137/1137 [==============================] - 4s 4ms/step - loss: 0.0015\n",
      "Epoch 92/100\n",
      "1137/1137 [==============================] - 4s 4ms/step - loss: 0.0017\n",
      "Epoch 93/100\n",
      "1137/1137 [==============================] - 4s 3ms/step - loss: 0.0018\n",
      "Epoch 94/100\n",
      "1137/1137 [==============================] - 4s 3ms/step - loss: 0.0017\n",
      "Epoch 95/100\n",
      "1137/1137 [==============================] - 4s 4ms/step - loss: 0.0017\n",
      "Epoch 96/100\n",
      "1137/1137 [==============================] - 4s 4ms/step - loss: 0.0016\n",
      "Epoch 97/100\n"
     ]
    },
    {
     "name": "stdout",
     "output_type": "stream",
     "text": [
      "1137/1137 [==============================] - 4s 3ms/step - loss: 0.0014\n",
      "Epoch 98/100\n",
      "1137/1137 [==============================] - 4s 3ms/step - loss: 0.0016\n",
      "Epoch 99/100\n",
      "1137/1137 [==============================] - 4s 3ms/step - loss: 0.0015\n",
      "Epoch 100/100\n",
      "1137/1137 [==============================] - 4s 4ms/step - loss: 0.0015\n"
     ]
    },
    {
     "data": {
      "text/plain": [
       "<keras.callbacks.History at 0x227c0ab9c18>"
      ]
     },
     "execution_count": 22,
     "metadata": {},
     "output_type": "execute_result"
    }
   ],
   "source": [
    "regressor.fit(X_train,y_train,epochs = 100,batch_size = 32)"
   ]
  },
  {
   "cell_type": "code",
   "execution_count": 23,
   "metadata": {},
   "outputs": [],
   "source": [
    "real_stock_price = df_test.iloc[:,1:2].values"
   ]
  },
  {
   "cell_type": "code",
   "execution_count": 24,
   "metadata": {},
   "outputs": [],
   "source": [
    "df_total = pd.concat((df['Open'],df['Open']), axis = 0)\n",
    "inputs = df_total[len(df_total)-len(df_test)-60:].values\n",
    "inputs = inputs.reshape(-1,1)\n",
    "inputs = sc.transform(inputs)\n",
    "x_test =[]\n",
    "for i in range(60,372):\n",
    "    x_test.append(inputs[i-60:i,0])"
   ]
  },
  {
   "cell_type": "code",
   "execution_count": 25,
   "metadata": {},
   "outputs": [],
   "source": [
    "x_test = np.array(x_test)\n",
    "x_test = np.reshape(x_test,(x_test.shape[0],x_test.shape[1],1))\n",
    "predicted_stock_price = regressor.predict(x_test)\n",
    "predicted_stock_price = sc.inverse_transform(predicted_stock_price)"
   ]
  },
  {
   "cell_type": "code",
   "execution_count": 26,
   "metadata": {},
   "outputs": [
    {
     "data": {
      "image/png": "[encoded data removed]",
      "text/plain": [
       "<matplotlib.figure.Figure at 0x227c4d740f0>"
      ]
     },
     "metadata": {},
     "output_type": "display_data"
    }
   ],
   "source": [
    "plt.plot(real_stock_price,color = 'red',label = 'Real IBM Stock Price')\n",
    "plt.plot(predicted_stock_price,color = 'b',label = 'Predicted IBM Stock Price')\n",
    "plt.title('IBM Stock Price Prediction')\n",
    "plt.xlabel('Time')\n",
    "plt.ylabel('IBM Stock Price')\n",
    "plt.legend()\n",
    "plt.show()"
   ]
  },
  {
   "cell_type": "code",
   "execution_count": null,
   "metadata": {},
   "outputs": [],
   "source": []
  }
 ],
 "metadata": {
  "kernelspec": {
   "display_name": "Python 3",
   "language": "python",
   "name": "python3"
  },
  "language_info": {
   "codemirror_mode": {
    "name": "ipython",
    "version": 3
   },
   "file_extension": ".py",
   "mimetype": "text/x-python",
   "name": "python",
   "nbconvert_exporter": "python",
   "pygments_lexer": "ipython3",
   "version": "3.6.3"
  }
 },
 "nbformat": 4,
 "nbformat_minor": 2
}
